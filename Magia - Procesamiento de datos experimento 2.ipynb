{
 "cells": [
  {
   "cell_type": "markdown",
   "metadata": {},
   "source": [
    "Procesamiento de datos del segundo fomulario. El que hice en Exactas y Fadu con aprox 15 personas en casa uno. \n",
    "\n",
    "Los datos originales estan aca:\n",
    "\n",
    "https://github.com/IoniUTDT/Magia/tree/master/PilotoFacuFadu"
   ]
  },
  {
   "cell_type": "code",
   "execution_count": 1,
   "metadata": {
    "collapsed": false
   },
   "outputs": [],
   "source": [
    "import pandas as pd\n",
    "from IPython.display import display\n",
    "import seaborn as sns\n",
    "import matplotlib.pyplot as plt\n",
    "from scripts.constants_Exp2 import *"
   ]
  },
  {
   "cell_type": "code",
   "execution_count": 2,
   "metadata": {
    "collapsed": false
   },
   "outputs": [
    {
     "data": {
      "text/plain": [
       "{'1_1_0': 'Menos 5',\n",
       " '1_1_1': '5 a 12',\n",
       " '1_1_2': '13 a 17',\n",
       " '1_1_3': '18 a 24',\n",
       " '1_1_4': '25 a 40',\n",
       " '1_1_5': '40 Mas'}"
      ]
     },
     "execution_count": 2,
     "metadata": {},
     "output_type": "execute_result"
    }
   ],
   "source": [
    "C_Edades"
   ]
  },
  {
   "cell_type": "code",
   "execution_count": 1,
   "metadata": {
    "collapsed": false
   },
   "outputs": [
    {
     "ename": "NameError",
     "evalue": "name 'pd' is not defined",
     "output_type": "error",
     "traceback": [
      "\u001b[1;31m---------------------------------------------------------------------------\u001b[0m",
      "\u001b[1;31mNameError\u001b[0m                                 Traceback (most recent call last)",
      "\u001b[1;32m<ipython-input-1-558013c01a58>\u001b[0m in \u001b[0;36m<module>\u001b[1;34m()\u001b[0m\n\u001b[1;32m----> 1\u001b[1;33m \u001b[0mdata_Piloto02\u001b[0m \u001b[1;33m=\u001b[0m \u001b[0mpd\u001b[0m\u001b[1;33m.\u001b[0m\u001b[0mread_csv\u001b[0m\u001b[1;33m(\u001b[0m\u001b[1;34m'/home/ionatan/Codigos/Magia/Resultados/Piloto02 (Facu+Fadu).csv'\u001b[0m\u001b[1;33m)\u001b[0m\u001b[1;33m\u001b[0m\u001b[0m\n\u001b[0m\u001b[0;32m      2\u001b[0m \u001b[1;33m\u001b[0m\u001b[0m\n\u001b[0;32m      3\u001b[0m \u001b[0mdisplay\u001b[0m \u001b[1;33m(\u001b[0m\u001b[0mdata_Piloto02\u001b[0m\u001b[1;33m.\u001b[0m\u001b[0mcolumns\u001b[0m\u001b[1;33m)\u001b[0m\u001b[1;33m\u001b[0m\u001b[0m\n",
      "\u001b[1;31mNameError\u001b[0m: name 'pd' is not defined"
     ]
    }
   ],
   "source": [
    "data_Piloto02 = pd.read_csv('/home/ionatan/Codigos/Magia/Resultados/Piloto02 (Facu+Fadu).csv')\n",
    "\n",
    "display (data_Piloto02.columns)"
   ]
  },
  {
   "cell_type": "code",
   "execution_count": 29,
   "metadata": {
    "collapsed": false
   },
   "outputs": [
    {
     "data": {
      "text/html": [
       "<div style=\"max-height:1000px;max-width:1500px;overflow:auto;\">\n",
       "<table border=\"1\" class=\"dataframe\">\n",
       "  <thead>\n",
       "    <tr style=\"text-align: right;\">\n",
       "      <th></th>\n",
       "      <th>IdSujeto</th>\n",
       "      <th>Edad</th>\n",
       "      <th>0</th>\n",
       "    </tr>\n",
       "  </thead>\n",
       "  <tbody>\n",
       "    <tr>\n",
       "      <th>0</th>\n",
       "      <td> 0</td>\n",
       "      <td> 1_1_3</td>\n",
       "      <td> 1</td>\n",
       "    </tr>\n",
       "    <tr>\n",
       "      <th>1</th>\n",
       "      <td> 1</td>\n",
       "      <td> 1_1_3</td>\n",
       "      <td> 1</td>\n",
       "    </tr>\n",
       "    <tr>\n",
       "      <th>2</th>\n",
       "      <td> 2</td>\n",
       "      <td> 1_1_3</td>\n",
       "      <td> 1</td>\n",
       "    </tr>\n",
       "    <tr>\n",
       "      <th>3</th>\n",
       "      <td> 3</td>\n",
       "      <td> 1_1_4</td>\n",
       "      <td> 1</td>\n",
       "    </tr>\n",
       "    <tr>\n",
       "      <th>4</th>\n",
       "      <td> 4</td>\n",
       "      <td> 1_1_3</td>\n",
       "      <td> 1</td>\n",
       "    </tr>\n",
       "  </tbody>\n",
       "</table>\n",
       "<p>5 rows × 3 columns</p>\n",
       "</div>"
      ],
      "text/plain": [
       "   IdSujeto   Edad  0\n",
       "0         0  1_1_3  1\n",
       "1         1  1_1_3  1\n",
       "2         2  1_1_3  1\n",
       "3         3  1_1_4  1\n",
       "4         4  1_1_3  1\n",
       "\n",
       "[5 rows x 3 columns]"
      ]
     },
     "metadata": {},
     "output_type": "display_data"
    },
    {
     "data": {
      "text/html": [
       "<div style=\"max-height:1000px;max-width:1500px;overflow:auto;\">\n",
       "<table border=\"1\" class=\"dataframe\">\n",
       "  <thead>\n",
       "    <tr style=\"text-align: right;\">\n",
       "      <th></th>\n",
       "      <th>IdSujeto</th>\n",
       "      <th>Edad</th>\n",
       "      <th>0</th>\n",
       "    </tr>\n",
       "  </thead>\n",
       "  <tbody>\n",
       "    <tr>\n",
       "      <th>0</th>\n",
       "      <td> 0</td>\n",
       "      <td> 18 a 24</td>\n",
       "      <td> 1</td>\n",
       "    </tr>\n",
       "    <tr>\n",
       "      <th>1</th>\n",
       "      <td> 1</td>\n",
       "      <td> 18 a 24</td>\n",
       "      <td> 1</td>\n",
       "    </tr>\n",
       "    <tr>\n",
       "      <th>2</th>\n",
       "      <td> 2</td>\n",
       "      <td> 18 a 24</td>\n",
       "      <td> 1</td>\n",
       "    </tr>\n",
       "    <tr>\n",
       "      <th>3</th>\n",
       "      <td> 3</td>\n",
       "      <td> 25 a 40</td>\n",
       "      <td> 1</td>\n",
       "    </tr>\n",
       "    <tr>\n",
       "      <th>4</th>\n",
       "      <td> 4</td>\n",
       "      <td> 18 a 24</td>\n",
       "      <td> 1</td>\n",
       "    </tr>\n",
       "  </tbody>\n",
       "</table>\n",
       "<p>5 rows × 3 columns</p>\n",
       "</div>"
      ],
      "text/plain": [
       "   IdSujeto     Edad  0\n",
       "0         0  18 a 24  1\n",
       "1         1  18 a 24  1\n",
       "2         2  18 a 24  1\n",
       "3         3  25 a 40  1\n",
       "4         4  18 a 24  1\n",
       "\n",
       "[5 rows x 3 columns]"
      ]
     },
     "metadata": {},
     "output_type": "display_data"
    },
    {
     "data": {
      "text/html": [
       "<div style=\"max-height:1000px;max-width:1500px;overflow:auto;\">\n",
       "<table border=\"1\" class=\"dataframe\">\n",
       "  <thead>\n",
       "    <tr style=\"text-align: right;\">\n",
       "      <th></th>\n",
       "      <th>IdSujeto</th>\n",
       "      <th>Edad</th>\n",
       "      <th>0</th>\n",
       "    </tr>\n",
       "    <tr>\n",
       "      <th>IdSujeto</th>\n",
       "      <th></th>\n",
       "      <th></th>\n",
       "      <th></th>\n",
       "    </tr>\n",
       "  </thead>\n",
       "  <tbody>\n",
       "    <tr>\n",
       "      <th>0</th>\n",
       "      <td> 0</td>\n",
       "      <td> 18 a 24</td>\n",
       "      <td> 1</td>\n",
       "    </tr>\n",
       "    <tr>\n",
       "      <th>1</th>\n",
       "      <td> 1</td>\n",
       "      <td> 18 a 24</td>\n",
       "      <td> 1</td>\n",
       "    </tr>\n",
       "    <tr>\n",
       "      <th>2</th>\n",
       "      <td> 2</td>\n",
       "      <td> 18 a 24</td>\n",
       "      <td> 1</td>\n",
       "    </tr>\n",
       "    <tr>\n",
       "      <th>3</th>\n",
       "      <td> 3</td>\n",
       "      <td> 25 a 40</td>\n",
       "      <td> 1</td>\n",
       "    </tr>\n",
       "    <tr>\n",
       "      <th>4</th>\n",
       "      <td> 4</td>\n",
       "      <td> 18 a 24</td>\n",
       "      <td> 1</td>\n",
       "    </tr>\n",
       "  </tbody>\n",
       "</table>\n",
       "<p>5 rows × 3 columns</p>\n",
       "</div>"
      ],
      "text/plain": [
       "          IdSujeto     Edad  0\n",
       "IdSujeto                      \n",
       "0                0  18 a 24  1\n",
       "1                1  18 a 24  1\n",
       "2                2  18 a 24  1\n",
       "3                3  25 a 40  1\n",
       "4                4  18 a 24  1\n",
       "\n",
       "[5 rows x 3 columns]"
      ]
     },
     "metadata": {},
     "output_type": "display_data"
    }
   ],
   "source": [
    "data = pd.read_csv('/home/ionatan/Codigos/Magia/Resultados/Piloto02 (Facu+Fadu).csv')\n",
    "\n",
    "resumen = pd.DataFrame()\n",
    "\n",
    "# Transformamos la edad en una columna\n",
    "edades = data[list(Codigos_Edades.keys())]\n",
    "edades = edades.stack()\n",
    "edades = edades[edades==1]\n",
    "edades = edades.reset_index()\n",
    "edades = edades.rename (columns = {'level_0':'IdSujeto','level_1':'Edad'})\n",
    "edades = edades.replace({'Edad':Codigos_Edades})\n",
    "\n",
    "# Anexamos las edades al resumen\n",
    "resumen = edades\n",
    "\n",
    "# Transformamos la edad en una columna\n",
    "edades = data[list(Codigos_Edades.keys())]\n",
    "edades = edades.stack()\n",
    "edades = edades[edades==1]\n",
    "edades = edades.reset_index()\n",
    "edades = edades.rename (columns = {'level_0':'IdSujeto','level_1':'Edad'})\n",
    "edades = edades.replace({'Edad':Codigos_Edades})\n",
    "\n",
    "\n",
    "# Transformamos las profesiones en una columna y agregamos si es exacta, afin o no. \n",
    "\n",
    "\n",
    "# #data_Konex = data_Konex[data_Konex.sum(axis=1) - data_Konex[\"Confianza\"] == 3] # Esta linea elimina a todos los que no marcaron una y solo una de las opciones como correctas en cada pregunta\n",
    "# data_Konex = data_Konex[data_Konex[list(dict_KonexFormacion.values())].sum(axis=1) == 1] # Esta linea elimina a todos los que no marcaron una y solo una de las opciones como correctas en cada pregunta\n",
    "# data_Konex = data_Konex[data_Konex[list(dict_KonexExplicaciones.values())].sum(axis=1) == 1] # Esta linea elimina a todos los que no marcaron una y solo una de las opciones como correctas en cada pregunta\n",
    "# data_Konex = data_Konex[data_Konex[list(dict_KonexTruco.values())].sum(axis=1) == 1] # Esta linea elimina a todos los que no marcaron una y solo una de las opciones como correctas en cada pregunta\n",
    "\n",
    "# pepe = data_Konex.stack()\n",
    "# pepe = pepe[(pepe==1) | (pepe.index.get_level_values(1)==\"Confianza\")]\n",
    "# pepe = pepe.reset_index()\n",
    "# pepe = pepe.rename(columns={'level_0':'IdSujeto','level_1':'valorElegido'})\n",
    "\n",
    "# pepe[\"NombreColumna\"] = pepe.index.map(lambda x: x % 4)\n",
    "# pepe['NombreColumna'].replace([0,1,2,3],['Formacion','Mecanismo','Confianza','Truco'], inplace=True)\n",
    "# condicion = pepe['NombreColumna']=='Confianza'\n",
    "# pepe.loc[condicion,['valorElegido']] = pepe.loc[condicion,[0]].values \n",
    "\n",
    "# TablaFinal = pepe.pivot(index=\"IdSujeto\", columns=\"NombreColumna\", values=\"valorElegido\")"
   ]
  }
 ],
 "metadata": {
  "kernelspec": {
   "display_name": "Python 3",
   "language": "python",
   "name": "python3"
  },
  "language_info": {
   "codemirror_mode": {
    "name": "ipython",
    "version": 3
   },
   "file_extension": ".py",
   "mimetype": "text/x-python",
   "name": "python",
   "nbconvert_exporter": "python",
   "pygments_lexer": "ipython3",
   "version": "3.4.3"
  }
 },
 "nbformat": 4,
 "nbformat_minor": 0
}
