{
 "cells": [
  {
   "cell_type": "markdown",
   "metadata": {},
   "source": [
    "Procesamiento de datos del segundo fomulario. El que hice en Exactas y Fadu con aprox 15 personas en casa uno. \n",
    "\n",
    "Los datos originales estan aca:\n",
    "\n",
    "https://github.com/IoniUTDT/Magia/tree/master/PilotoFacuFadu"
   ]
  },
  {
   "cell_type": "code",
   "execution_count": 1,
   "metadata": {
    "collapsed": false
   },
   "outputs": [],
   "source": [
    "%load_ext autoreload\n",
    "%autoreload 2\n",
    "import pandas as pd\n",
    "from IPython.display import display\n",
    "import seaborn as sns\n",
    "import matplotlib.pyplot as plt\n",
    "# from scripts.constants_Exp2 import *\n",
    "from scripts.preprocesamiento import *\n",
    "\n",
    "path = \"./PilotoFacuFadu/\"\n",
    "dataFile = \"Data_Exp2.csv\""
   ]
  },
  {
   "cell_type": "code",
   "execution_count": 2,
   "metadata": {
    "collapsed": false
   },
   "outputs": [
    {
     "name": "stderr",
     "output_type": "stream",
     "text": [
      "/usr/lib/python3/dist-packages/pandas/core/indexing.py:346: SettingWithCopyWarning: A value is trying to be set on a copy of a slice from a DataFrame.\n",
      "Try using .loc[row_index,col_indexer] = value instead\n",
      "  self.obj[item] = s\n"
     ]
    }
   ],
   "source": [
    "data = pd.read_csv(path+dataFile)\n",
    "tabla = tablaPreprocesada(data, None)"
   ]
  },
  {
   "cell_type": "code",
   "execution_count": 3,
   "metadata": {
    "collapsed": false
   },
   "outputs": [
    {
     "data": {
      "text/html": [
       "<div style=\"max-height:1000px;max-width:1500px;overflow:auto;\">\n",
       "<table border=\"1\" class=\"dataframe\">\n",
       "  <thead>\n",
       "    <tr style=\"text-align: right;\">\n",
       "      <th></th>\n",
       "      <th>MecanismoPost</th>\n",
       "      <th>HayTruco</th>\n",
       "      <th>RelevanciaMano</th>\n",
       "      <th>ConfianzaPost</th>\n",
       "      <th>Edad</th>\n",
       "      <th>ConfianzaInicial</th>\n",
       "      <th>Profesion</th>\n",
       "      <th>MecanismoInicial</th>\n",
       "      <th>Formacion</th>\n",
       "      <th>MecanismoInicialOtros</th>\n",
       "      <th>IdExp</th>\n",
       "      <th>IdForm</th>\n",
       "      <th>IdSubset</th>\n",
       "    </tr>\n",
       "  </thead>\n",
       "  <tbody>\n",
       "    <tr>\n",
       "      <th>0</th>\n",
       "      <td>     No lo se</td>\n",
       "      <td> Si</td>\n",
       "      <td> 3</td>\n",
       "      <td> 1</td>\n",
       "      <td> 18 a 24</td>\n",
       "      <td> 5</td>\n",
       "      <td> Mate/Comp/Sistemas</td>\n",
       "      <td>      Calor</td>\n",
       "      <td>       Secundaria</td>\n",
       "      <td>          [Magnetismo, Presion]</td>\n",
       "      <td> 1002</td>\n",
       "      <td> ['31256']</td>\n",
       "      <td> None</td>\n",
       "    </tr>\n",
       "    <tr>\n",
       "      <th>1</th>\n",
       "      <td> Electricidad</td>\n",
       "      <td> Si</td>\n",
       "      <td> 2</td>\n",
       "      <td> 5</td>\n",
       "      <td> 18 a 24</td>\n",
       "      <td> 5</td>\n",
       "      <td>                NaN</td>\n",
       "      <td>      Calor</td>\n",
       "      <td>              NaN</td>\n",
       "      <td>                   [Magnetismo]</td>\n",
       "      <td> 1002</td>\n",
       "      <td> ['59406']</td>\n",
       "      <td> None</td>\n",
       "    </tr>\n",
       "    <tr>\n",
       "      <th>2</th>\n",
       "      <td>   Magnetismo</td>\n",
       "      <td> Si</td>\n",
       "      <td> 4</td>\n",
       "      <td> 3</td>\n",
       "      <td> 18 a 24</td>\n",
       "      <td> 0</td>\n",
       "      <td>        Ingenierias</td>\n",
       "      <td> Magnetismo</td>\n",
       "      <td> UniversidadCurso</td>\n",
       "      <td> [Electricidad, Presion, Calor]</td>\n",
       "      <td> 1002</td>\n",
       "      <td> ['55654']</td>\n",
       "      <td> None</td>\n",
       "    </tr>\n",
       "    <tr>\n",
       "      <th>3</th>\n",
       "      <td>      Presion</td>\n",
       "      <td> Si</td>\n",
       "      <td> 1</td>\n",
       "      <td> 7</td>\n",
       "      <td> 25 a 40</td>\n",
       "      <td> 6</td>\n",
       "      <td>  Bio/Qui/Geo/Paleo</td>\n",
       "      <td>    Presion</td>\n",
       "      <td> UniversidadCurso</td>\n",
       "      <td>                   [CampoLibre]</td>\n",
       "      <td> 1002</td>\n",
       "      <td> ['15766']</td>\n",
       "      <td> None</td>\n",
       "    </tr>\n",
       "    <tr>\n",
       "      <th>4</th>\n",
       "      <td>      Presion</td>\n",
       "      <td> Si</td>\n",
       "      <td> 4</td>\n",
       "      <td> 5</td>\n",
       "      <td> 18 a 24</td>\n",
       "      <td> 3</td>\n",
       "      <td>  Bio/Qui/Geo/Paleo</td>\n",
       "      <td> Magnetismo</td>\n",
       "      <td>              NaN</td>\n",
       "      <td>                      [Presion]</td>\n",
       "      <td> 1002</td>\n",
       "      <td> ['61935']</td>\n",
       "      <td> None</td>\n",
       "    </tr>\n",
       "  </tbody>\n",
       "</table>\n",
       "<p>5 rows × 13 columns</p>\n",
       "</div>"
      ],
      "text/plain": [
       "  MecanismoPost HayTruco  RelevanciaMano  ConfianzaPost     Edad  \\\n",
       "0      No lo se       Si               3              1  18 a 24   \n",
       "1  Electricidad       Si               2              5  18 a 24   \n",
       "2    Magnetismo       Si               4              3  18 a 24   \n",
       "3       Presion       Si               1              7  25 a 40   \n",
       "4       Presion       Si               4              5  18 a 24   \n",
       "\n",
       "   ConfianzaInicial           Profesion MecanismoInicial         Formacion  \\\n",
       "0                 5  Mate/Comp/Sistemas            Calor        Secundaria   \n",
       "1                 5                 NaN            Calor               NaN   \n",
       "2                 0         Ingenierias       Magnetismo  UniversidadCurso   \n",
       "3                 6   Bio/Qui/Geo/Paleo          Presion  UniversidadCurso   \n",
       "4                 3   Bio/Qui/Geo/Paleo       Magnetismo               NaN   \n",
       "\n",
       "            MecanismoInicialOtros  IdExp     IdForm IdSubset  \n",
       "0           [Magnetismo, Presion]   1002  ['31256']     None  \n",
       "1                    [Magnetismo]   1002  ['59406']     None  \n",
       "2  [Electricidad, Presion, Calor]   1002  ['55654']     None  \n",
       "3                    [CampoLibre]   1002  ['15766']     None  \n",
       "4                       [Presion]   1002  ['61935']     None  \n",
       "\n",
       "[5 rows x 13 columns]"
      ]
     },
     "execution_count": 3,
     "metadata": {},
     "output_type": "execute_result"
    }
   ],
   "source": [
    "tabla.head()"
   ]
  },
  {
   "cell_type": "code",
   "execution_count": 4,
   "metadata": {
    "collapsed": false
   },
   "outputs": [],
   "source": [
    "#from pandas import ExcelWriter\n",
    "\n",
    "tabla['GradoExactas'] = None\n",
    "tabla['GradoExactas'][tabla['Profesion'].isin(L_Exactas)] = 'Exactas'\n",
    "tabla['GradoExactas'][tabla['Profesion'].isin(L_Fisicas)] = 'Fisicas'\n",
    "tabla['GradoExactas'][tabla['Profesion'].isin(L_Afines)] = 'Afines'\n",
    "tabla['GradoExactas'][tabla['Profesion'].isin(L_NoAfines)] = 'NoAfines'\n",
    "#tabla['GradoExactas'] = np.where(tabla['Profesion'].isin(L_Afines), 'Afin', None)\n",
    "#tabla['GradoExactas'] = np.where(tabla['Profesion'].isin(L_NoAfines), 'NoAfines', None)\n",
    "tabla\n",
    "#writer = ExcelWriter(path+'TablaProcesada.xlsx')\n",
    "#writer = pd.ExcelWriter(path+'TablaProcesada.xlsx', engine='xlsxwriter')\n",
    "tabla.to_csv(path+'TablaProcesada.csv', encoding='utf-8')\n",
    "#writer.save()"
   ]
  },
  {
   "cell_type": "code",
   "execution_count": 14,
   "metadata": {
    "collapsed": false
   },
   "outputs": [],
   "source": [
    "y='ConfianzaPost'\n",
    "x='MecanismoPost'\n",
    "hue='ConfianzaPost'\n",
    "plot = sns.countplot(data=tabla, x=x, hue=hue)\n",
    "plt.show()\n",
    "plot.get_figure().savefig(path + \"figures/count\" + y +\"Vs\" + x + \"hue\" + hue)\n",
    "\n",
    "#plt.savefig(path + \"figures/\" + \"ConfianzaInicialVsMecanismoInicial\")\n",
    "#sns.barplot(x=\"Mecanismo\", y=\"Confianza\", data=tabla)\n",
    "#plt.show()"
   ]
  },
  {
   "cell_type": "code",
   "execution_count": 25,
   "metadata": {
    "collapsed": false
   },
   "outputs": [
    {
     "data": {
      "text/plain": [
       "Index(['Exactas', 'Afines', 'NoAfines'], dtype='object')"
      ]
     },
     "metadata": {},
     "output_type": "display_data"
    }
   ],
   "source": [
    "conteo = tabla['GradoExactas'].value_counts()\n",
    "display(conteo.index)\n",
    "x='GradoExactas'\n",
    "y='RelevanciaMano'\n",
    "plot = sns.barplot(x=x, y=y, data=tabla, order=conteo.index)\n",
    "\n",
    "conteo = conteo / conteo.max()\n",
    "\n",
    "# Loop over the bars, and adjust the width (and position, to keep the bar centred)\n",
    "for bar,newwidth in zip(plot.patches,conteo.tolist()):\n",
    "    x_pos = bar.get_x()\n",
    "    width = bar.get_width()\n",
    "    centre = x_pos+width/2.\n",
    "\n",
    "    bar.set_x(centre-newwidth/2.)\n",
    "    bar.set_width(newwidth)\n",
    "\n",
    "plt.show()\n",
    "plot.get_figure().savefig(path + \"figures/bar\" + y +\"Vs\" + x)\n"
   ]
  },
  {
   "cell_type": "markdown",
   "metadata": {
    "collapsed": false
   },
   "source": [
    "Una vez que tenemos la informacion cruda cargada la procesamos para transformarla en un dataframe legible. Eso significa pasar de todos los codigos numerico donde cada columna corresponde a un checkbox y esta en formato true/false (salvo las ecaladas numericas que ya vienen mejor procesadas) a un conjunto de columnas bien etiquetadas por categoria de pregunta con su respuesta."
   ]
  },
  {
   "cell_type": "code",
   "execution_count": 8,
   "metadata": {
    "collapsed": false
   },
   "outputs": [
    {
     "data": {
      "text/plain": [
       "Index(['ConfianzaPost', 'MecanismoInicial', 'ConfianzaInicial', 'Formacion', 'Edad', 'Profesion', 'RelevanciaMano', 'HayTruco', 'MecanismoPost', 'MecanismoInicialOtros', 'IdExp', 'IdForm', 'IdSubset', 'GradoExactas'], dtype='object')"
      ]
     },
     "execution_count": 8,
     "metadata": {},
     "output_type": "execute_result"
    }
   ],
   "source": [
    "tabla.columns\n",
    "\n",
    "\n"
   ]
  },
  {
   "cell_type": "code",
   "execution_count": 81,
   "metadata": {
    "collapsed": false
   },
   "outputs": [
    {
     "name": "stdout",
     "output_type": "stream",
     "text": [
      "0\n",
      "1\n",
      "2\n",
      "3\n",
      "4\n",
      "5\n",
      "6\n",
      "7\n",
      "8\n",
      "9\n",
      "10\n"
     ]
    }
   ],
   "source": [
    "def pepe():\n",
    "    i=-1\n",
    "    while i<100:\n",
    "        i += 1\n",
    "        yield i\n",
    "\n",
    "lala = pepe()\n",
    "for i in lala:\n",
    "    print(i)"
   ]
  },
  {
   "cell_type": "code",
   "execution_count": 87,
   "metadata": {
    "collapsed": false
   },
   "outputs": [
    {
     "name": "stdout",
     "output_type": "stream",
     "text": [
      "1\n",
      "3\n",
      "range(0, 100)\n"
     ]
    }
   ],
   "source": [
    "pepe = {1:2, 3:4}\n",
    "for key in list(pepe):\n",
    "    print(key)\n",
    "    \n",
    "print(range(100))"
   ]
  },
  {
   "cell_type": "code",
   "execution_count": 71,
   "metadata": {
    "collapsed": false
   },
   "outputs": [
    {
     "data": {
      "text/plain": [
       "4"
      ]
     },
     "execution_count": 71,
     "metadata": {},
     "output_type": "execute_result"
    }
   ],
   "source": [
    "pepe = lambda x: x**2\n",
    "pepe(2)"
   ]
  },
  {
   "cell_type": "code",
   "execution_count": 14,
   "metadata": {
    "collapsed": true
   },
   "outputs": [
    {
     "data": {
      "text/plain": [
       "0  1_2_8     0\n",
       "   1_2_14    0\n",
       "   1_2_11    0\n",
       "   1_2_20    0\n",
       "   1_2_2     0\n",
       "dtype: int64"
      ]
     },
     "metadata": {},
     "output_type": "display_data"
    },
    {
     "data": {
      "text/plain": [
       "0  1_2_9     1\n",
       "1  1_2_11    1\n",
       "   1_2_4     1\n",
       "2  1_2_15    1\n",
       "3  1_2_1     1\n",
       "dtype: int64"
      ]
     },
     "metadata": {},
     "output_type": "display_data"
    },
    {
     "data": {
      "text/html": [
       "<div style=\"max-height:1000px;max-width:1500px;overflow:auto;\">\n",
       "<table border=\"1\" class=\"dataframe\">\n",
       "  <thead>\n",
       "    <tr style=\"text-align: right;\">\n",
       "      <th></th>\n",
       "      <th>IdSujeto</th>\n",
       "      <th>Profesion</th>\n",
       "      <th>0</th>\n",
       "    </tr>\n",
       "  </thead>\n",
       "  <tbody>\n",
       "    <tr>\n",
       "      <th>0</th>\n",
       "      <td> 0</td>\n",
       "      <td> Mate/Comp/Sistemas</td>\n",
       "      <td> 1</td>\n",
       "    </tr>\n",
       "    <tr>\n",
       "      <th>1</th>\n",
       "      <td> 1</td>\n",
       "      <td>    Artes Plasticas</td>\n",
       "      <td> 1</td>\n",
       "    </tr>\n",
       "    <tr>\n",
       "      <th>2</th>\n",
       "      <td> 1</td>\n",
       "      <td>         Arq/Diseño</td>\n",
       "      <td> 1</td>\n",
       "    </tr>\n",
       "    <tr>\n",
       "      <th>3</th>\n",
       "      <td> 2</td>\n",
       "      <td>        Ingenierias</td>\n",
       "      <td> 1</td>\n",
       "    </tr>\n",
       "    <tr>\n",
       "      <th>4</th>\n",
       "      <td> 3</td>\n",
       "      <td>  Bio/Qui/Geo/Paleo</td>\n",
       "      <td> 1</td>\n",
       "    </tr>\n",
       "  </tbody>\n",
       "</table>\n",
       "<p>5 rows × 3 columns</p>\n",
       "</div>"
      ],
      "text/plain": [
       "   IdSujeto           Profesion  0\n",
       "0         0  Mate/Comp/Sistemas  1\n",
       "1         1     Artes Plasticas  1\n",
       "2         1          Arq/Diseño  1\n",
       "3         2         Ingenierias  1\n",
       "4         3   Bio/Qui/Geo/Paleo  1\n",
       "\n",
       "[5 rows x 3 columns]"
      ]
     },
     "metadata": {},
     "output_type": "display_data"
    }
   ],
   "source": [
    "# Transformamos las profesiones en una columna y agregamos si es exacta, afin o no. \n",
    "\n",
    "profesion = data[list(C_Profesion.keys())]\n",
    "profesion = profesion.stack()\n",
    "display (profesion.head())\n",
    "profesion = profesion[profesion==1]\n",
    "display (profesion.head())\n",
    "profesion = profesion.reset_index()\n",
    "profesion = profesion.rename (columns = {'level_0':'IdSujeto','level_1':'Profesion'})\n",
    "profesion = profesion.replace({'Profesion':C_Profesion})\n",
    "display (profesion.head())\n",
    "#data_Konex = data_Konex[data_Konex.sum(axis=1) - data_Konex[\"Confianza\"] == 3] # Esta linea elimina a todos los que no marcaron una y solo una de las opciones como correctas en cada pregunta\n",
    "# data_Konex = data_Konex[data_Konex[list(dict_KonexFormacion.values())].sum(axis=1) == 1] # Esta linea elimina a todos los que no marcaron una y solo una de las opciones como correctas en cada pregunta\n",
    "# data_Konex = data_Konex[data_Konex[list(dict_KonexExplicaciones.values())].sum(axis=1) == 1] # Esta linea elimina a todos los que no marcaron una y solo una de las opciones como correctas en cada pregunta\n",
    "# data_Konex = data_Konex[data_Konex[list(dict_KonexTruco.values())].sum(axis=1) == 1] # Esta linea elimina a todos los que no marcaron una y solo una de las opciones como correctas en cada pregunta\n",
    "\n",
    "# pepe = data_Konex.stack()\n",
    "# pepe = pepe[(pepe==1) | (pepe.index.get_level_values(1)==\"Confianza\")]\n",
    "# pepe = pepe.reset_index()\n",
    "# pepe = pepe.rename(columns={'level_0':'IdSujeto','level_1':'valorElegido'})\n",
    "\n",
    "# pepe[\"NombreColumna\"] = pepe.index.map(lambda x: x % 4)\n",
    "# pepe['NombreColumna'].replace([0,1,2,3],['Formacion','Mecanismo','Confianza','Truco'], inplace=True)\n",
    "# condicion = pepe['NombreColumna']=='Confianza'\n",
    "# pepe.loc[condicion,['valorElegido']] = pepe.loc[condicion,[0]].values \n",
    "\n",
    "# TablaFinal = pepe.pivot(index=\"IdSujeto\", columns=\"NombreColumna\", values=\"valorElegido\")"
   ]
  },
  {
   "cell_type": "code",
   "execution_count": 5,
   "metadata": {
    "collapsed": false
   },
   "outputs": [
    {
     "data": {
      "text/plain": [
       "Index(['questionnaire_id', 'global_id', '1_1_0', '1_1_1', '1_1_2', '1_1_3', '1_1_4', '1_1_5', '1_2_0', '1_2_1', '1_2_2', '1_2_3', '1_2_4', '1_2_5', '1_2_6', '1_2_7', '1_2_8', '1_2_9', '1_2_10', '1_2_11', '1_2_12', '1_2_13', '1_2_14', '1_2_15', '1_2_16', '1_2_17', '1_2_18', '1_2_19', '1_2_20', '1_3_0', '1_3_1', '1_3_2', '1_3_3', '1_3_4', '1_3_5', '2_1_0', '2_1_1', '2_1_2', '2_1_3', '2_1_4', '2_1_5', '2_1_6', '2_1_7', '2_1_8', '2_2', '2_3_0', '2_3_1', '2_3_2', '2_3_3', '2_3_4', '2_3_5', '2_3_6', '2_3_7', '2_3_8', '2_4', '3_1_0', '3_1_1', '3_1_2', '3_1_3', '3_1_4', '3_1_5', '3_1_6', '3_1_7', '3_1_8', '3_2', '3_3_0', '3_3_1', '3_3_2', '4_1_1_0', '4_1_1_1', '4_1_1_2', '4_1_1_3', '4_1_1_4', '4_1_2_0', '4_1_2_1', '4_1_2_2', '4_1_2_3', '4_1_2_4', '4_1_3_0', '4_1_3_1', '4_1_3_2', '4_1_3_3', '4_1_3_4', '4_1_4_0', '4_1_4_1', '4_1_4_2', '4_1_4_3', '4_1_4_4', '4_1_5_0', '4_1_5_1', '4_1_5_2', '4_1_5_3', '4_1_5_4', '4_1_6_0', '4_1_6_1', '4_1_6_2', '4_1_6_3', '4_1_6_4', '4_1_7_0', '4_1_7_1', ...], dtype='object')"
      ]
     },
     "execution_count": 5,
     "metadata": {},
     "output_type": "execute_result"
    }
   ],
   "source": [
    "data.columns"
   ]
  }
 ],
 "metadata": {
  "kernelspec": {
   "display_name": "Python 3",
   "language": "python",
   "name": "python3"
  },
  "language_info": {
   "codemirror_mode": {
    "name": "ipython",
    "version": 3
   },
   "file_extension": ".py",
   "mimetype": "text/x-python",
   "name": "python",
   "nbconvert_exporter": "python",
   "pygments_lexer": "ipython3",
   "version": "3.4.3"
  }
 },
 "nbformat": 4,
 "nbformat_minor": 0
}
